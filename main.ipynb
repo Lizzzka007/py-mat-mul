{
 "cells": [
  {
   "cell_type": "code",
   "execution_count": 6,
   "metadata": {},
   "outputs": [
    {
     "name": "stdout",
     "output_type": "stream",
     "text": [
      "float\n"
     ]
    },
    {
     "data": {
      "text/plain": [
       "963917"
      ]
     },
     "execution_count": 6,
     "metadata": {},
     "output_type": "execute_result"
    }
   ],
   "source": [
    "import py_mat_mul\n",
    "import numpy as np\n",
    "import time\n",
    "\n",
    "nrow = 1000\n",
    "ncol = 1010\n",
    "\n",
    "a = np.ndarray(shape=(nrow, ncol), dtype=np.float32)\n",
    "b = np.ndarray(shape=(ncol, nrow), dtype=np.float32)\n",
    "\n",
    "for i in range(nrow):\n",
    "    for j in range(ncol):\n",
    "        a[i][j] = i + j\n",
    "for i in range(ncol):\n",
    "    for j in range(nrow):\n",
    "        b[i][j] = i - j\n",
    "\n",
    "res = py_mat_mul.mat_mul(a, b, 1)\n",
    "res_np = np.dot(a, b)\n",
    "\n",
    "diff = np.subtract(res, res_np)\n",
    "np.max(diff)\n",
    "diff.argmax()"
   ]
  },
  {
   "cell_type": "code",
   "execution_count": 7,
   "metadata": {},
   "outputs": [
    {
     "data": {
      "text/plain": [
       "963917"
      ]
     },
     "execution_count": 7,
     "metadata": {},
     "output_type": "execute_result"
    }
   ],
   "source": [
    "A_nrow = a.shape[0]\n",
    "A_ncol = a.shape[1]\n",
    "B_nrow = b.shape[0]\n",
    "B_ncol = b.shape[1]\n",
    "\n",
    "c = np.zeros(shape=(A_nrow, B_ncol), dtype=np.float32)\n",
    "\n",
    "for i in range(A_nrow):\n",
    "    for j in range(B_ncol):\n",
    "        sum_value = np.float32(0)\n",
    "        for k in range(A_ncol):\n",
    "            sum_value += a[i, k] * b[k, j]\n",
    "        c[i, j] = sum_value\n",
    "\n",
    "diff = np.subtract(c, res_np)\n",
    "np.max(diff)\n",
    "diff.argmax()"
   ]
  },
  {
   "cell_type": "code",
   "execution_count": null,
   "metadata": {},
   "outputs": [],
   "source": []
  }
 ],
 "metadata": {
  "kernelspec": {
   "display_name": "skolkovo",
   "language": "python",
   "name": "python3"
  },
  "language_info": {
   "codemirror_mode": {
    "name": "ipython",
    "version": 3
   },
   "file_extension": ".py",
   "mimetype": "text/x-python",
   "name": "python",
   "nbconvert_exporter": "python",
   "pygments_lexer": "ipython3",
   "version": "3.12.3"
  }
 },
 "nbformat": 4,
 "nbformat_minor": 2
}
